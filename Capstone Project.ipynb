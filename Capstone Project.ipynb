{
 "cells": [
  {
   "cell_type": "markdown",
   "metadata": {},
   "source": [
    "## Capstone - Road Accident Severity"
   ]
  },
  {
   "cell_type": "code",
   "execution_count": 2,
   "metadata": {},
   "outputs": [],
   "source": [
    "import pandas as pd\n",
    "import numpy as np\n",
    "import seaborn as sns\n",
    "import matplotlib.pyplot as plt \n",
    "%matplotlib inline\n"
   ]
  },
  {
   "cell_type": "code",
   "execution_count": 1,
   "metadata": {},
   "outputs": [
    {
     "name": "stdout",
     "output_type": "stream",
     "text": [
      "--2020-09-26 18:55:57--  https://s3.us.cloud-object-storage.appdomain.cloud/cf-courses-data/CognitiveClass/DP0701EN/version-2/Data-Collisions.csv\n",
      "Resolving s3.us.cloud-object-storage.appdomain.cloud (s3.us.cloud-object-storage.appdomain.cloud)... 67.228.254.196\n",
      "Connecting to s3.us.cloud-object-storage.appdomain.cloud (s3.us.cloud-object-storage.appdomain.cloud)|67.228.254.196|:443... connected.\n",
      "HTTP request sent, awaiting response... 200 OK\n",
      "Length: 73917638 (70M) [text/csv]\n",
      "Saving to: ‘Data-Collisions.csv’\n",
      "\n",
      "100%[======================================>] 73,917,638  36.3MB/s   in 1.9s   \n",
      "\n",
      "2020-09-26 18:56:00 (36.3 MB/s) - ‘Data-Collisions.csv’ saved [73917638/73917638]\n",
      "\n"
     ]
    }
   ],
   "source": [
    "!wget -O Data-Collisions.csv https://s3.us.cloud-object-storage.appdomain.cloud/cf-courses-data/CognitiveClass/DP0701EN/version-2/Data-Collisions.csv"
   ]
  },
  {
   "cell_type": "code",
   "execution_count": 3,
   "metadata": {},
   "outputs": [
    {
     "name": "stderr",
     "output_type": "stream",
     "text": [
      "/home/jupyterlab/conda/envs/python/lib/python3.6/site-packages/IPython/core/interactiveshell.py:3072: DtypeWarning: Columns (33) have mixed types.Specify dtype option on import or set low_memory=False.\n",
      "  interactivity=interactivity, compiler=compiler, result=result)\n"
     ]
    }
   ],
   "source": [
    "df = pd.read_csv(\"Data-Collisions.csv\")"
   ]
  },
  {
   "cell_type": "code",
   "execution_count": 4,
   "metadata": {},
   "outputs": [],
   "source": [
    "summaryStatistics = df.describe().transpose()"
   ]
  },
  {
   "cell_type": "code",
   "execution_count": 5,
   "metadata": {},
   "outputs": [
    {
     "data": {
      "text/html": [
       "<div>\n",
       "<style scoped>\n",
       "    .dataframe tbody tr th:only-of-type {\n",
       "        vertical-align: middle;\n",
       "    }\n",
       "\n",
       "    .dataframe tbody tr th {\n",
       "        vertical-align: top;\n",
       "    }\n",
       "\n",
       "    .dataframe thead th {\n",
       "        text-align: right;\n",
       "    }\n",
       "</style>\n",
       "<table border=\"1\" class=\"dataframe\">\n",
       "  <thead>\n",
       "    <tr style=\"text-align: right;\">\n",
       "      <th></th>\n",
       "      <th>count</th>\n",
       "      <th>mean</th>\n",
       "      <th>std</th>\n",
       "      <th>min</th>\n",
       "      <th>25%</th>\n",
       "      <th>50%</th>\n",
       "      <th>75%</th>\n",
       "      <th>max</th>\n",
       "    </tr>\n",
       "  </thead>\n",
       "  <tbody>\n",
       "    <tr>\n",
       "      <th>X</th>\n",
       "      <td>189339.0</td>\n",
       "      <td>-1.223305e+02</td>\n",
       "      <td>2.997605e-02</td>\n",
       "      <td>-1.224191e+02</td>\n",
       "      <td>-1.223487e+02</td>\n",
       "      <td>-1.223302e+02</td>\n",
       "      <td>-1.223119e+02</td>\n",
       "      <td>-1.222389e+02</td>\n",
       "    </tr>\n",
       "    <tr>\n",
       "      <th>Y</th>\n",
       "      <td>189339.0</td>\n",
       "      <td>4.761954e+01</td>\n",
       "      <td>5.615664e-02</td>\n",
       "      <td>4.749557e+01</td>\n",
       "      <td>4.757596e+01</td>\n",
       "      <td>4.761537e+01</td>\n",
       "      <td>4.766366e+01</td>\n",
       "      <td>4.773414e+01</td>\n",
       "    </tr>\n",
       "    <tr>\n",
       "      <th>PEDCYLCOUNT</th>\n",
       "      <td>194673.0</td>\n",
       "      <td>2.839120e-02</td>\n",
       "      <td>1.674128e-01</td>\n",
       "      <td>0.000000e+00</td>\n",
       "      <td>0.000000e+00</td>\n",
       "      <td>0.000000e+00</td>\n",
       "      <td>0.000000e+00</td>\n",
       "      <td>2.000000e+00</td>\n",
       "    </tr>\n",
       "    <tr>\n",
       "      <th>PEDCOUNT</th>\n",
       "      <td>194673.0</td>\n",
       "      <td>3.713920e-02</td>\n",
       "      <td>1.981499e-01</td>\n",
       "      <td>0.000000e+00</td>\n",
       "      <td>0.000000e+00</td>\n",
       "      <td>0.000000e+00</td>\n",
       "      <td>0.000000e+00</td>\n",
       "      <td>6.000000e+00</td>\n",
       "    </tr>\n",
       "    <tr>\n",
       "      <th>SEVERITYCODE</th>\n",
       "      <td>194673.0</td>\n",
       "      <td>1.298901e+00</td>\n",
       "      <td>4.577776e-01</td>\n",
       "      <td>1.000000e+00</td>\n",
       "      <td>1.000000e+00</td>\n",
       "      <td>1.000000e+00</td>\n",
       "      <td>2.000000e+00</td>\n",
       "      <td>2.000000e+00</td>\n",
       "    </tr>\n",
       "    <tr>\n",
       "      <th>SEVERITYCODE.1</th>\n",
       "      <td>194673.0</td>\n",
       "      <td>1.298901e+00</td>\n",
       "      <td>4.577776e-01</td>\n",
       "      <td>1.000000e+00</td>\n",
       "      <td>1.000000e+00</td>\n",
       "      <td>1.000000e+00</td>\n",
       "      <td>2.000000e+00</td>\n",
       "      <td>2.000000e+00</td>\n",
       "    </tr>\n",
       "    <tr>\n",
       "      <th>VEHCOUNT</th>\n",
       "      <td>194673.0</td>\n",
       "      <td>1.920780e+00</td>\n",
       "      <td>6.310467e-01</td>\n",
       "      <td>0.000000e+00</td>\n",
       "      <td>2.000000e+00</td>\n",
       "      <td>2.000000e+00</td>\n",
       "      <td>2.000000e+00</td>\n",
       "      <td>1.200000e+01</td>\n",
       "    </tr>\n",
       "    <tr>\n",
       "      <th>PERSONCOUNT</th>\n",
       "      <td>194673.0</td>\n",
       "      <td>2.444427e+00</td>\n",
       "      <td>1.345929e+00</td>\n",
       "      <td>0.000000e+00</td>\n",
       "      <td>2.000000e+00</td>\n",
       "      <td>2.000000e+00</td>\n",
       "      <td>3.000000e+00</td>\n",
       "      <td>8.100000e+01</td>\n",
       "    </tr>\n",
       "    <tr>\n",
       "      <th>SDOT_COLCODE</th>\n",
       "      <td>194673.0</td>\n",
       "      <td>1.386777e+01</td>\n",
       "      <td>6.868755e+00</td>\n",
       "      <td>0.000000e+00</td>\n",
       "      <td>1.100000e+01</td>\n",
       "      <td>1.300000e+01</td>\n",
       "      <td>1.400000e+01</td>\n",
       "      <td>6.900000e+01</td>\n",
       "    </tr>\n",
       "    <tr>\n",
       "      <th>SEGLANEKEY</th>\n",
       "      <td>194673.0</td>\n",
       "      <td>2.694011e+02</td>\n",
       "      <td>3.315776e+03</td>\n",
       "      <td>0.000000e+00</td>\n",
       "      <td>0.000000e+00</td>\n",
       "      <td>0.000000e+00</td>\n",
       "      <td>0.000000e+00</td>\n",
       "      <td>5.252410e+05</td>\n",
       "    </tr>\n",
       "    <tr>\n",
       "      <th>INTKEY</th>\n",
       "      <td>65070.0</td>\n",
       "      <td>3.755845e+04</td>\n",
       "      <td>5.174599e+04</td>\n",
       "      <td>2.380700e+04</td>\n",
       "      <td>2.866700e+04</td>\n",
       "      <td>2.997300e+04</td>\n",
       "      <td>3.397300e+04</td>\n",
       "      <td>7.575800e+05</td>\n",
       "    </tr>\n",
       "    <tr>\n",
       "      <th>OBJECTID</th>\n",
       "      <td>194673.0</td>\n",
       "      <td>1.084794e+05</td>\n",
       "      <td>6.264972e+04</td>\n",
       "      <td>1.000000e+00</td>\n",
       "      <td>5.426700e+04</td>\n",
       "      <td>1.069120e+05</td>\n",
       "      <td>1.622720e+05</td>\n",
       "      <td>2.195470e+05</td>\n",
       "    </tr>\n",
       "    <tr>\n",
       "      <th>CROSSWALKKEY</th>\n",
       "      <td>194673.0</td>\n",
       "      <td>9.782452e+03</td>\n",
       "      <td>7.226926e+04</td>\n",
       "      <td>0.000000e+00</td>\n",
       "      <td>0.000000e+00</td>\n",
       "      <td>0.000000e+00</td>\n",
       "      <td>0.000000e+00</td>\n",
       "      <td>5.239700e+06</td>\n",
       "    </tr>\n",
       "    <tr>\n",
       "      <th>INCKEY</th>\n",
       "      <td>194673.0</td>\n",
       "      <td>1.410915e+05</td>\n",
       "      <td>8.663440e+04</td>\n",
       "      <td>1.001000e+03</td>\n",
       "      <td>7.038300e+04</td>\n",
       "      <td>1.233630e+05</td>\n",
       "      <td>2.033190e+05</td>\n",
       "      <td>3.314540e+05</td>\n",
       "    </tr>\n",
       "    <tr>\n",
       "      <th>COLDETKEY</th>\n",
       "      <td>194673.0</td>\n",
       "      <td>1.412988e+05</td>\n",
       "      <td>8.698654e+04</td>\n",
       "      <td>1.001000e+03</td>\n",
       "      <td>7.038300e+04</td>\n",
       "      <td>1.233630e+05</td>\n",
       "      <td>2.034590e+05</td>\n",
       "      <td>3.329540e+05</td>\n",
       "    </tr>\n",
       "    <tr>\n",
       "      <th>SDOTCOLNUM</th>\n",
       "      <td>114936.0</td>\n",
       "      <td>7.972521e+06</td>\n",
       "      <td>2.553533e+06</td>\n",
       "      <td>1.007024e+06</td>\n",
       "      <td>6.040015e+06</td>\n",
       "      <td>8.023022e+06</td>\n",
       "      <td>1.015501e+07</td>\n",
       "      <td>1.307202e+07</td>\n",
       "    </tr>\n",
       "  </tbody>\n",
       "</table>\n",
       "</div>"
      ],
      "text/plain": [
       "                   count          mean           std           min  \\\n",
       "X               189339.0 -1.223305e+02  2.997605e-02 -1.224191e+02   \n",
       "Y               189339.0  4.761954e+01  5.615664e-02  4.749557e+01   \n",
       "PEDCYLCOUNT     194673.0  2.839120e-02  1.674128e-01  0.000000e+00   \n",
       "PEDCOUNT        194673.0  3.713920e-02  1.981499e-01  0.000000e+00   \n",
       "SEVERITYCODE    194673.0  1.298901e+00  4.577776e-01  1.000000e+00   \n",
       "SEVERITYCODE.1  194673.0  1.298901e+00  4.577776e-01  1.000000e+00   \n",
       "VEHCOUNT        194673.0  1.920780e+00  6.310467e-01  0.000000e+00   \n",
       "PERSONCOUNT     194673.0  2.444427e+00  1.345929e+00  0.000000e+00   \n",
       "SDOT_COLCODE    194673.0  1.386777e+01  6.868755e+00  0.000000e+00   \n",
       "SEGLANEKEY      194673.0  2.694011e+02  3.315776e+03  0.000000e+00   \n",
       "INTKEY           65070.0  3.755845e+04  5.174599e+04  2.380700e+04   \n",
       "OBJECTID        194673.0  1.084794e+05  6.264972e+04  1.000000e+00   \n",
       "CROSSWALKKEY    194673.0  9.782452e+03  7.226926e+04  0.000000e+00   \n",
       "INCKEY          194673.0  1.410915e+05  8.663440e+04  1.001000e+03   \n",
       "COLDETKEY       194673.0  1.412988e+05  8.698654e+04  1.001000e+03   \n",
       "SDOTCOLNUM      114936.0  7.972521e+06  2.553533e+06  1.007024e+06   \n",
       "\n",
       "                         25%           50%           75%           max  \n",
       "X              -1.223487e+02 -1.223302e+02 -1.223119e+02 -1.222389e+02  \n",
       "Y               4.757596e+01  4.761537e+01  4.766366e+01  4.773414e+01  \n",
       "PEDCYLCOUNT     0.000000e+00  0.000000e+00  0.000000e+00  2.000000e+00  \n",
       "PEDCOUNT        0.000000e+00  0.000000e+00  0.000000e+00  6.000000e+00  \n",
       "SEVERITYCODE    1.000000e+00  1.000000e+00  2.000000e+00  2.000000e+00  \n",
       "SEVERITYCODE.1  1.000000e+00  1.000000e+00  2.000000e+00  2.000000e+00  \n",
       "VEHCOUNT        2.000000e+00  2.000000e+00  2.000000e+00  1.200000e+01  \n",
       "PERSONCOUNT     2.000000e+00  2.000000e+00  3.000000e+00  8.100000e+01  \n",
       "SDOT_COLCODE    1.100000e+01  1.300000e+01  1.400000e+01  6.900000e+01  \n",
       "SEGLANEKEY      0.000000e+00  0.000000e+00  0.000000e+00  5.252410e+05  \n",
       "INTKEY          2.866700e+04  2.997300e+04  3.397300e+04  7.575800e+05  \n",
       "OBJECTID        5.426700e+04  1.069120e+05  1.622720e+05  2.195470e+05  \n",
       "CROSSWALKKEY    0.000000e+00  0.000000e+00  0.000000e+00  5.239700e+06  \n",
       "INCKEY          7.038300e+04  1.233630e+05  2.033190e+05  3.314540e+05  \n",
       "COLDETKEY       7.038300e+04  1.233630e+05  2.034590e+05  3.329540e+05  \n",
       "SDOTCOLNUM      6.040015e+06  8.023022e+06  1.015501e+07  1.307202e+07  "
      ]
     },
     "execution_count": 5,
     "metadata": {},
     "output_type": "execute_result"
    }
   ],
   "source": [
    "summaryStatistics.sort_values(by=['std'])"
   ]
  },
  {
   "cell_type": "code",
   "execution_count": 6,
   "metadata": {},
   "outputs": [],
   "source": [
    "numerical_features = list(summaryStatistics.index)"
   ]
  },
  {
   "cell_type": "code",
   "execution_count": 7,
   "metadata": {},
   "outputs": [],
   "source": [
    "categorical_features = [i for i in df.columns if i not in numerical_features]"
   ]
  },
  {
   "cell_type": "code",
   "execution_count": 8,
   "metadata": {},
   "outputs": [],
   "source": [
    "\n",
    "df_unique = pd.DataFrame(df[numerical_features].T.apply(lambda x: x.nunique(), axis=1))"
   ]
  },
  {
   "cell_type": "code",
   "execution_count": 9,
   "metadata": {},
   "outputs": [
    {
     "data": {
      "text/html": [
       "<div>\n",
       "<style scoped>\n",
       "    .dataframe tbody tr th:only-of-type {\n",
       "        vertical-align: middle;\n",
       "    }\n",
       "\n",
       "    .dataframe tbody tr th {\n",
       "        vertical-align: top;\n",
       "    }\n",
       "\n",
       "    .dataframe thead th {\n",
       "        text-align: right;\n",
       "    }\n",
       "</style>\n",
       "<table border=\"1\" class=\"dataframe\">\n",
       "  <thead>\n",
       "    <tr style=\"text-align: right;\">\n",
       "      <th></th>\n",
       "      <th>Unique_count</th>\n",
       "    </tr>\n",
       "  </thead>\n",
       "  <tbody>\n",
       "    <tr>\n",
       "      <th>SEVERITYCODE</th>\n",
       "      <td>2</td>\n",
       "    </tr>\n",
       "    <tr>\n",
       "      <th>SEVERITYCODE.1</th>\n",
       "      <td>2</td>\n",
       "    </tr>\n",
       "    <tr>\n",
       "      <th>PEDCYLCOUNT</th>\n",
       "      <td>3</td>\n",
       "    </tr>\n",
       "    <tr>\n",
       "      <th>PEDCOUNT</th>\n",
       "      <td>7</td>\n",
       "    </tr>\n",
       "    <tr>\n",
       "      <th>VEHCOUNT</th>\n",
       "      <td>13</td>\n",
       "    </tr>\n",
       "    <tr>\n",
       "      <th>SDOT_COLCODE</th>\n",
       "      <td>39</td>\n",
       "    </tr>\n",
       "    <tr>\n",
       "      <th>PERSONCOUNT</th>\n",
       "      <td>47</td>\n",
       "    </tr>\n",
       "    <tr>\n",
       "      <th>SEGLANEKEY</th>\n",
       "      <td>1955</td>\n",
       "    </tr>\n",
       "    <tr>\n",
       "      <th>CROSSWALKKEY</th>\n",
       "      <td>2198</td>\n",
       "    </tr>\n",
       "    <tr>\n",
       "      <th>INTKEY</th>\n",
       "      <td>7614</td>\n",
       "    </tr>\n",
       "    <tr>\n",
       "      <th>X</th>\n",
       "      <td>23563</td>\n",
       "    </tr>\n",
       "    <tr>\n",
       "      <th>Y</th>\n",
       "      <td>23839</td>\n",
       "    </tr>\n",
       "    <tr>\n",
       "      <th>SDOTCOLNUM</th>\n",
       "      <td>114932</td>\n",
       "    </tr>\n",
       "    <tr>\n",
       "      <th>OBJECTID</th>\n",
       "      <td>194673</td>\n",
       "    </tr>\n",
       "    <tr>\n",
       "      <th>INCKEY</th>\n",
       "      <td>194673</td>\n",
       "    </tr>\n",
       "    <tr>\n",
       "      <th>COLDETKEY</th>\n",
       "      <td>194673</td>\n",
       "    </tr>\n",
       "  </tbody>\n",
       "</table>\n",
       "</div>"
      ],
      "text/plain": [
       "                Unique_count\n",
       "SEVERITYCODE               2\n",
       "SEVERITYCODE.1             2\n",
       "PEDCYLCOUNT                3\n",
       "PEDCOUNT                   7\n",
       "VEHCOUNT                  13\n",
       "SDOT_COLCODE              39\n",
       "PERSONCOUNT               47\n",
       "SEGLANEKEY              1955\n",
       "CROSSWALKKEY            2198\n",
       "INTKEY                  7614\n",
       "X                      23563\n",
       "Y                      23839\n",
       "SDOTCOLNUM            114932\n",
       "OBJECTID              194673\n",
       "INCKEY                194673\n",
       "COLDETKEY             194673"
      ]
     },
     "execution_count": 9,
     "metadata": {},
     "output_type": "execute_result"
    }
   ],
   "source": [
    "df_unique.columns=['Unique_count']\n",
    "df_unique.sort_values(by=['Unique_count'])"
   ]
  },
  {
   "cell_type": "code",
   "execution_count": 10,
   "metadata": {},
   "outputs": [
    {
     "data": {
      "text/html": [
       "<div>\n",
       "<style scoped>\n",
       "    .dataframe tbody tr th:only-of-type {\n",
       "        vertical-align: middle;\n",
       "    }\n",
       "\n",
       "    .dataframe tbody tr th {\n",
       "        vertical-align: top;\n",
       "    }\n",
       "\n",
       "    .dataframe thead th {\n",
       "        text-align: right;\n",
       "    }\n",
       "</style>\n",
       "<table border=\"1\" class=\"dataframe\">\n",
       "  <thead>\n",
       "    <tr style=\"text-align: right;\">\n",
       "      <th></th>\n",
       "      <th>count</th>\n",
       "      <th>unique</th>\n",
       "      <th>top</th>\n",
       "      <th>freq</th>\n",
       "    </tr>\n",
       "  </thead>\n",
       "  <tbody>\n",
       "    <tr>\n",
       "      <th>SPEEDING</th>\n",
       "      <td>9333</td>\n",
       "      <td>1</td>\n",
       "      <td>Y</td>\n",
       "      <td>9333</td>\n",
       "    </tr>\n",
       "    <tr>\n",
       "      <th>EXCEPTRSNDESC</th>\n",
       "      <td>5638</td>\n",
       "      <td>1</td>\n",
       "      <td>Not Enough Information, or Insufficient Locati...</td>\n",
       "      <td>5638</td>\n",
       "    </tr>\n",
       "    <tr>\n",
       "      <th>PEDROWNOTGRNT</th>\n",
       "      <td>4667</td>\n",
       "      <td>1</td>\n",
       "      <td>Y</td>\n",
       "      <td>4667</td>\n",
       "    </tr>\n",
       "    <tr>\n",
       "      <th>INATTENTIONIND</th>\n",
       "      <td>29805</td>\n",
       "      <td>1</td>\n",
       "      <td>Y</td>\n",
       "      <td>29805</td>\n",
       "    </tr>\n",
       "    <tr>\n",
       "      <th>HITPARKEDCAR</th>\n",
       "      <td>194673</td>\n",
       "      <td>2</td>\n",
       "      <td>N</td>\n",
       "      <td>187457</td>\n",
       "    </tr>\n",
       "    <tr>\n",
       "      <th>STATUS</th>\n",
       "      <td>194673</td>\n",
       "      <td>2</td>\n",
       "      <td>Matched</td>\n",
       "      <td>189786</td>\n",
       "    </tr>\n",
       "    <tr>\n",
       "      <th>EXCEPTRSNCODE</th>\n",
       "      <td>84811</td>\n",
       "      <td>2</td>\n",
       "      <td></td>\n",
       "      <td>79173</td>\n",
       "    </tr>\n",
       "    <tr>\n",
       "      <th>SEVERITYDESC</th>\n",
       "      <td>194673</td>\n",
       "      <td>2</td>\n",
       "      <td>Property Damage Only Collision</td>\n",
       "      <td>136485</td>\n",
       "    </tr>\n",
       "    <tr>\n",
       "      <th>ADDRTYPE</th>\n",
       "      <td>192747</td>\n",
       "      <td>3</td>\n",
       "      <td>Block</td>\n",
       "      <td>126926</td>\n",
       "    </tr>\n",
       "    <tr>\n",
       "      <th>UNDERINFL</th>\n",
       "      <td>189789</td>\n",
       "      <td>4</td>\n",
       "      <td>N</td>\n",
       "      <td>100274</td>\n",
       "    </tr>\n",
       "    <tr>\n",
       "      <th>JUNCTIONTYPE</th>\n",
       "      <td>188344</td>\n",
       "      <td>7</td>\n",
       "      <td>Mid-Block (not related to intersection)</td>\n",
       "      <td>89800</td>\n",
       "    </tr>\n",
       "    <tr>\n",
       "      <th>ROADCOND</th>\n",
       "      <td>189661</td>\n",
       "      <td>9</td>\n",
       "      <td>Dry</td>\n",
       "      <td>124510</td>\n",
       "    </tr>\n",
       "    <tr>\n",
       "      <th>LIGHTCOND</th>\n",
       "      <td>189503</td>\n",
       "      <td>9</td>\n",
       "      <td>Daylight</td>\n",
       "      <td>116137</td>\n",
       "    </tr>\n",
       "    <tr>\n",
       "      <th>COLLISIONTYPE</th>\n",
       "      <td>189769</td>\n",
       "      <td>10</td>\n",
       "      <td>Parked Car</td>\n",
       "      <td>47987</td>\n",
       "    </tr>\n",
       "    <tr>\n",
       "      <th>WEATHER</th>\n",
       "      <td>189592</td>\n",
       "      <td>11</td>\n",
       "      <td>Clear</td>\n",
       "      <td>111135</td>\n",
       "    </tr>\n",
       "    <tr>\n",
       "      <th>SDOT_COLDESC</th>\n",
       "      <td>194673</td>\n",
       "      <td>39</td>\n",
       "      <td>MOTOR VEHICLE STRUCK MOTOR VEHICLE, FRONT END ...</td>\n",
       "      <td>85209</td>\n",
       "    </tr>\n",
       "    <tr>\n",
       "      <th>ST_COLDESC</th>\n",
       "      <td>189769</td>\n",
       "      <td>62</td>\n",
       "      <td>One parked--one moving</td>\n",
       "      <td>44421</td>\n",
       "    </tr>\n",
       "    <tr>\n",
       "      <th>ST_COLCODE</th>\n",
       "      <td>194655</td>\n",
       "      <td>115</td>\n",
       "      <td>32</td>\n",
       "      <td>27612</td>\n",
       "    </tr>\n",
       "    <tr>\n",
       "      <th>INCDATE</th>\n",
       "      <td>194673</td>\n",
       "      <td>5985</td>\n",
       "      <td>2006/11/02 00:00:00+00</td>\n",
       "      <td>96</td>\n",
       "    </tr>\n",
       "    <tr>\n",
       "      <th>LOCATION</th>\n",
       "      <td>191996</td>\n",
       "      <td>24102</td>\n",
       "      <td>BATTERY ST TUNNEL NB BETWEEN ALASKAN WY VI NB ...</td>\n",
       "      <td>276</td>\n",
       "    </tr>\n",
       "    <tr>\n",
       "      <th>INCDTTM</th>\n",
       "      <td>194673</td>\n",
       "      <td>162058</td>\n",
       "      <td>11/2/2006</td>\n",
       "      <td>96</td>\n",
       "    </tr>\n",
       "    <tr>\n",
       "      <th>REPORTNO</th>\n",
       "      <td>194673</td>\n",
       "      <td>194670</td>\n",
       "      <td>1782439</td>\n",
       "      <td>2</td>\n",
       "    </tr>\n",
       "  </tbody>\n",
       "</table>\n",
       "</div>"
      ],
      "text/plain": [
       "                 count  unique  \\\n",
       "SPEEDING          9333       1   \n",
       "EXCEPTRSNDESC     5638       1   \n",
       "PEDROWNOTGRNT     4667       1   \n",
       "INATTENTIONIND   29805       1   \n",
       "HITPARKEDCAR    194673       2   \n",
       "STATUS          194673       2   \n",
       "EXCEPTRSNCODE    84811       2   \n",
       "SEVERITYDESC    194673       2   \n",
       "ADDRTYPE        192747       3   \n",
       "UNDERINFL       189789       4   \n",
       "JUNCTIONTYPE    188344       7   \n",
       "ROADCOND        189661       9   \n",
       "LIGHTCOND       189503       9   \n",
       "COLLISIONTYPE   189769      10   \n",
       "WEATHER         189592      11   \n",
       "SDOT_COLDESC    194673      39   \n",
       "ST_COLDESC      189769      62   \n",
       "ST_COLCODE      194655     115   \n",
       "INCDATE         194673    5985   \n",
       "LOCATION        191996   24102   \n",
       "INCDTTM         194673  162058   \n",
       "REPORTNO        194673  194670   \n",
       "\n",
       "                                                              top    freq  \n",
       "SPEEDING                                                        Y    9333  \n",
       "EXCEPTRSNDESC   Not Enough Information, or Insufficient Locati...    5638  \n",
       "PEDROWNOTGRNT                                                   Y    4667  \n",
       "INATTENTIONIND                                                  Y   29805  \n",
       "HITPARKEDCAR                                                    N  187457  \n",
       "STATUS                                                    Matched  189786  \n",
       "EXCEPTRSNCODE                                                       79173  \n",
       "SEVERITYDESC                       Property Damage Only Collision  136485  \n",
       "ADDRTYPE                                                    Block  126926  \n",
       "UNDERINFL                                                       N  100274  \n",
       "JUNCTIONTYPE              Mid-Block (not related to intersection)   89800  \n",
       "ROADCOND                                                      Dry  124510  \n",
       "LIGHTCOND                                                Daylight  116137  \n",
       "COLLISIONTYPE                                          Parked Car   47987  \n",
       "WEATHER                                                     Clear  111135  \n",
       "SDOT_COLDESC    MOTOR VEHICLE STRUCK MOTOR VEHICLE, FRONT END ...   85209  \n",
       "ST_COLDESC                                 One parked--one moving   44421  \n",
       "ST_COLCODE                                                     32   27612  \n",
       "INCDATE                                    2006/11/02 00:00:00+00      96  \n",
       "LOCATION        BATTERY ST TUNNEL NB BETWEEN ALASKAN WY VI NB ...     276  \n",
       "INCDTTM                                                 11/2/2006      96  \n",
       "REPORTNO                                                  1782439       2  "
      ]
     },
     "execution_count": 10,
     "metadata": {},
     "output_type": "execute_result"
    }
   ],
   "source": [
    "df[categorical_features].describe(include='all').transpose().sort_values(by='unique')"
   ]
  },
  {
   "cell_type": "markdown",
   "metadata": {},
   "source": [
    "#### 1. Removing Numerical columns OBJECTID, INCKEY, COLDETKEY, REPORTNO as they are Keys and no won't add value to Prediction\n",
    "#### 2. Removing constant values columns SPEEDING, EXCEPTRSNDESC, PEDROWNOTGRNT, INATTENTIONIND as these values are not going to add impact to prediction and mostly unkown for most of the observations\n",
    "#### 3. Removing Description columns SDOT_COLDESC, ST_COLDESC, SEVERITYDESC as we also have corresponding codes"
   ]
  },
  {
   "cell_type": "code",
   "execution_count": 11,
   "metadata": {},
   "outputs": [],
   "source": [
    "drop_col_list = ['OBJECTID','INCKEY','COLDETKEY','REPORTNO',\n",
    "         'SPEEDING', 'EXCEPTRSNDESC', 'PEDROWNOTGRNT', 'INATTENTIONIND',\n",
    "         'SDOT_COLDESC', 'ST_COLDESC', 'SEVERITYDESC']\n",
    "\n",
    "numerical_features=[i for i in numerical_features if i not in drop_col_list]\n",
    "categorical_features=[i for i in categorical_features if i not in drop_col_list]\n",
    "\n",
    "df.drop(drop_col_list, axis = 1, inplace=True)"
   ]
  },
  {
   "cell_type": "markdown",
   "metadata": {},
   "source": [
    "#### Prediction Label frequency to check the dataset balance state"
   ]
  },
  {
   "cell_type": "code",
   "execution_count": 12,
   "metadata": {},
   "outputs": [
    {
     "data": {
      "image/png": "[encoded data removed]",
      "text/plain": [
       "<Figure size 432x288 with 1 Axes>"
      ]
     },
     "metadata": {
      "needs_background": "light"
     },
     "output_type": "display_data"
    }
   ],
   "source": [
    "sns.countplot('SEVERITYCODE', data=df)\n",
    "plt.title('Total Classes')\n",
    "plt.show()"
   ]
  },
  {
   "cell_type": "markdown",
   "metadata": {},
   "source": [
    "#### It is clearly representing more than half imbalance in the data"
   ]
  },
  {
   "cell_type": "markdown",
   "metadata": {},
   "source": [
    "### Creating Balanced Sample by doing Under Sampling"
   ]
  },
  {
   "cell_type": "code",
   "execution_count": 13,
   "metadata": {},
   "outputs": [],
   "source": [
    "df_shuffled=df.sample(frac=1,random_state=4)\n",
    "df_under_1=df_shuffled.loc[df_shuffled['SEVERITYCODE'] == 1].sample(n=57159,random_state=42)\n",
    "df_under_2=df_shuffled.loc[df_shuffled['SEVERITYCODE'] == 2]\n",
    "df_over_2=df_shuffled.loc[df_shuffled['SEVERITYCODE'] == 2].sample(n=18309,random_state=42)\n",
    "df_under_sample = pd.concat([df_under_1, df_under_2])\n",
    "df_over_sample = pd.concat([df_shuffled, df_under_2, df_over_2])\n"
   ]
  },
  {
   "cell_type": "code",
   "execution_count": 14,
   "metadata": {},
   "outputs": [
    {
     "data": {
      "image/png": "[encoded data removed]",
      "text/plain": [
       "<Figure size 864x432 with 2 Axes>"
      ]
     },
     "metadata": {
      "needs_background": "light"
     },
     "output_type": "display_data"
    }
   ],
   "source": [
    "fig, ax =plt.subplots(1,2, sharey=True,figsize=(12, 6))\n",
    "sns.countplot(df_under_sample['SEVERITYCODE'], ax=ax[0])\n",
    "sns.countplot(df_over_sample['SEVERITYCODE'], ax=ax[1])\n",
    "ax[0].set_title('Under Sampling')\n",
    "ax[1].set_title('Over Sampling')\n",
    "fig.show()\n"
   ]
  },
  {
   "cell_type": "markdown",
   "metadata": {},
   "source": [
    "#### Date column analysis by extracting day features"
   ]
  },
  {
   "cell_type": "code",
   "execution_count": 15,
   "metadata": {},
   "outputs": [],
   "source": [
    "\n",
    "\n",
    "df_under_sample['INCDATE'] = pd.to_datetime(df_under_sample['INCDATE'])\n",
    "\n",
    "df_under_sample['day_of_week'] = df_under_sample['INCDATE'].dt.day_name()"
   ]
  },
  {
   "cell_type": "code",
   "execution_count": 16,
   "metadata": {},
   "outputs": [
    {
     "data": {
      "text/plain": [
       "<AxesSubplot:>"
      ]
     },
     "execution_count": 16,
     "metadata": {},
     "output_type": "execute_result"
    },
    {
     "data": {
      "image/png": "[encoded data removed]",
      "text/plain": [
       "<Figure size 432x288 with 1 Axes>"
      ]
     },
     "metadata": {
      "needs_background": "light"
     },
     "output_type": "display_data"
    }
   ],
   "source": [
    "df_under_sample['day_of_week'].value_counts().plot.bar()"
   ]
  },
  {
   "cell_type": "markdown",
   "metadata": {},
   "source": [
    "#### Next set of Low Distinct columns Analysis on Label Column(SEVERITYCODE)\n",
    "###### ['STATUS','EXCEPTRSNCODE','UNDERINFL']"
   ]
  },
  {
   "cell_type": "code",
   "execution_count": 17,
   "metadata": {},
   "outputs": [
    {
     "data": {
      "image/png": "[encoded data removed]",
      "text/plain": [
       "<Figure size 1296x288 with 3 Axes>"
      ]
     },
     "metadata": {
      "needs_background": "light"
     },
     "output_type": "display_data"
    }
   ],
   "source": [
    "f, ax = plt.subplots(1,3,figsize=(18, 4))\n",
    "sns.countplot(x='STATUS', hue='SEVERITYCODE',data=df_under_sample,order=df_under_sample['STATUS'].value_counts().index,ax=ax[0])\n",
    "sns.countplot(x='EXCEPTRSNCODE', hue='SEVERITYCODE',data=df_under_sample,order=df_under_sample['EXCEPTRSNCODE'].value_counts().index,ax=ax[1])\n",
    "sns.countplot(x='UNDERINFL', hue='SEVERITYCODE',data=df_under_sample,order=df_under_sample['UNDERINFL'].value_counts().index,ax=ax[2])\n",
    "ax[0].set_xticklabels(ax[0].get_xticklabels(), rotation=45)\n",
    "ax[1].set_xticklabels(ax[1].get_xticklabels(), rotation=45)\n",
    "ax[2].set_xticklabels(ax[2].get_xticklabels(), rotation=45)\n",
    "f.show()"
   ]
  },
  {
   "cell_type": "markdown",
   "metadata": {},
   "source": [
    "#### ['STATUS','EXCEPTRSNCODE','UNDERINFL'] In each field severity distribution is similar we can ignore these columns"
   ]
  },
  {
   "cell_type": "code",
   "execution_count": 18,
   "metadata": {},
   "outputs": [
    {
     "data": {
      "image/png": "[encoded data removed]",
      "text/plain": [
       "<Figure size 1296x288 with 3 Axes>"
      ]
     },
     "metadata": {
      "needs_background": "light"
     },
     "output_type": "display_data"
    }
   ],
   "source": [
    "f, ax = plt.subplots(1,3,figsize=(18, 4))\n",
    "sns.countplot(x='ADDRTYPE', hue='SEVERITYCODE',data=df_under_sample,order=df_under_sample['ADDRTYPE'].value_counts().index,ax=ax[0])\n",
    "sns.countplot(x='JUNCTIONTYPE', hue='SEVERITYCODE',data=df_under_sample,order=df_under_sample['JUNCTIONTYPE'].value_counts().index,ax=ax[1])\n",
    "sns.countplot(x='COLLISIONTYPE', hue='SEVERITYCODE',data=df_under_sample,order=df_under_sample['COLLISIONTYPE'].value_counts().index,ax=ax[2])\n",
    "\n",
    "ax[0].set_xticklabels(ax[0].get_xticklabels(), rotation=90)\n",
    "ax[1].set_xticklabels(ax[1].get_xticklabels(), rotation=90)\n",
    "ax[2].set_xticklabels(ax[2].get_xticklabels(), rotation=90)\n",
    "f.show()"
   ]
  },
  {
   "cell_type": "markdown",
   "metadata": {},
   "source": [
    "#### ['ADDRTYPE','JUNCTIONTYPE','COLLISIONTYPE'] In each field severity distribution is havind correlation we can include these columns"
   ]
  },
  {
   "cell_type": "code",
   "execution_count": 19,
   "metadata": {},
   "outputs": [
    {
     "data": {
      "image/png": "[encoded data removed]",
      "text/plain": [
       "<Figure size 1296x288 with 3 Axes>"
      ]
     },
     "metadata": {
      "needs_background": "light"
     },
     "output_type": "display_data"
    }
   ],
   "source": [
    "f, ax = plt.subplots(1,3,figsize=(18, 4))\n",
    "sns.countplot(x='LIGHTCOND', hue='SEVERITYCODE',data=df_under_sample,order=df_under_sample['LIGHTCOND'].value_counts().index,ax=ax[0])\n",
    "sns.countplot(x='ROADCOND', hue='SEVERITYCODE',data=df_under_sample,order=df_under_sample['ROADCOND'].value_counts().index,ax=ax[1])\n",
    "sns.countplot(x='WEATHER', hue='SEVERITYCODE',data=df_under_sample,order=df_under_sample['WEATHER'].value_counts().index,ax=ax[2])\n",
    "ax[0].set_xticklabels(ax[0].get_xticklabels(), rotation=90)\n",
    "ax[1].set_xticklabels(ax[1].get_xticklabels(), rotation=90)\n",
    "ax[2].set_xticklabels(ax[2].get_xticklabels(), rotation=90)\n",
    "f.show()"
   ]
  },
  {
   "cell_type": "markdown",
   "metadata": {},
   "source": [
    "##### ['LIGHTCOND','ROADCOND','WEATHER'] Severity distribution is having some correlation with fields so we can include these columns and test the performance"
   ]
  },
  {
   "cell_type": "code",
   "execution_count": 20,
   "metadata": {},
   "outputs": [
    {
     "data": {
      "image/png": "[encoded data removed]",
      "text/plain": [
       "<Figure size 648x504 with 2 Axes>"
      ]
     },
     "metadata": {
      "needs_background": "light"
     },
     "output_type": "display_data"
    }
   ],
   "source": [
    "fig, ax = plt.subplots(figsize=(9, 7))\n",
    "sns.heatmap(df_under_sample[numerical_features].corr(), cmap=\"Blues\",\n",
    "           linewidth=0.3, cbar_kws={\"shrink\": .8})\n",
    "plt.show()\n",
    "\n"
   ]
  },
  {
   "cell_type": "markdown",
   "metadata": {},
   "source": [
    "#### We can see very low correlation of all numerical variables with SEVERITYCODE"
   ]
  },
  {
   "cell_type": "code",
   "execution_count": 21,
   "metadata": {},
   "outputs": [
    {
     "data": {
      "text/html": [
       "<div>\n",
       "<style scoped>\n",
       "    .dataframe tbody tr th:only-of-type {\n",
       "        vertical-align: middle;\n",
       "    }\n",
       "\n",
       "    .dataframe tbody tr th {\n",
       "        vertical-align: top;\n",
       "    }\n",
       "\n",
       "    .dataframe thead th {\n",
       "        text-align: right;\n",
       "    }\n",
       "</style>\n",
       "<table border=\"1\" class=\"dataframe\">\n",
       "  <thead>\n",
       "    <tr style=\"text-align: right;\">\n",
       "      <th></th>\n",
       "      <th>SEVERITYCODE</th>\n",
       "      <th>X</th>\n",
       "      <th>Y</th>\n",
       "      <th>INTKEY</th>\n",
       "      <th>SEVERITYCODE.1</th>\n",
       "      <th>PERSONCOUNT</th>\n",
       "      <th>PEDCOUNT</th>\n",
       "      <th>PEDCYLCOUNT</th>\n",
       "      <th>VEHCOUNT</th>\n",
       "      <th>SDOT_COLCODE</th>\n",
       "      <th>SDOTCOLNUM</th>\n",
       "      <th>SEGLANEKEY</th>\n",
       "      <th>CROSSWALKKEY</th>\n",
       "    </tr>\n",
       "  </thead>\n",
       "  <tbody>\n",
       "    <tr>\n",
       "      <th>SEVERITYCODE</th>\n",
       "      <td>1.000000</td>\n",
       "      <td>0.009715</td>\n",
       "      <td>0.019968</td>\n",
       "      <td>0.010541</td>\n",
       "      <td>1.000000</td>\n",
       "      <td>0.137241</td>\n",
       "      <td>0.215229</td>\n",
       "      <td>0.187809</td>\n",
       "      <td>-0.056914</td>\n",
       "      <td>0.189944</td>\n",
       "      <td>0.007467</td>\n",
       "      <td>0.089017</td>\n",
       "      <td>0.153012</td>\n",
       "    </tr>\n",
       "    <tr>\n",
       "      <th>X</th>\n",
       "      <td>0.009715</td>\n",
       "      <td>1.000000</td>\n",
       "      <td>-0.162926</td>\n",
       "      <td>0.120712</td>\n",
       "      <td>0.009715</td>\n",
       "      <td>0.012086</td>\n",
       "      <td>0.012132</td>\n",
       "      <td>-0.003879</td>\n",
       "      <td>-0.011069</td>\n",
       "      <td>0.007050</td>\n",
       "      <td>0.000422</td>\n",
       "      <td>-0.003221</td>\n",
       "      <td>0.015530</td>\n",
       "    </tr>\n",
       "    <tr>\n",
       "      <th>Y</th>\n",
       "      <td>0.019968</td>\n",
       "      <td>-0.162926</td>\n",
       "      <td>1.000000</td>\n",
       "      <td>-0.107830</td>\n",
       "      <td>0.019968</td>\n",
       "      <td>-0.014924</td>\n",
       "      <td>0.011177</td>\n",
       "      <td>0.032705</td>\n",
       "      <td>0.011720</td>\n",
       "      <td>-0.011717</td>\n",
       "      <td>-0.004807</td>\n",
       "      <td>0.005624</td>\n",
       "      <td>0.010912</td>\n",
       "    </tr>\n",
       "    <tr>\n",
       "      <th>INTKEY</th>\n",
       "      <td>0.010541</td>\n",
       "      <td>0.120712</td>\n",
       "      <td>-0.107830</td>\n",
       "      <td>1.000000</td>\n",
       "      <td>0.010541</td>\n",
       "      <td>0.004371</td>\n",
       "      <td>-0.004030</td>\n",
       "      <td>0.001851</td>\n",
       "      <td>-0.011895</td>\n",
       "      <td>0.005662</td>\n",
       "      <td>0.035564</td>\n",
       "      <td>-0.012159</td>\n",
       "      <td>0.025705</td>\n",
       "    </tr>\n",
       "    <tr>\n",
       "      <th>SEVERITYCODE.1</th>\n",
       "      <td>1.000000</td>\n",
       "      <td>0.009715</td>\n",
       "      <td>0.019968</td>\n",
       "      <td>0.010541</td>\n",
       "      <td>1.000000</td>\n",
       "      <td>0.137241</td>\n",
       "      <td>0.215229</td>\n",
       "      <td>0.187809</td>\n",
       "      <td>-0.056914</td>\n",
       "      <td>0.189944</td>\n",
       "      <td>0.007467</td>\n",
       "      <td>0.089017</td>\n",
       "      <td>0.153012</td>\n",
       "    </tr>\n",
       "    <tr>\n",
       "      <th>PERSONCOUNT</th>\n",
       "      <td>0.137241</td>\n",
       "      <td>0.012086</td>\n",
       "      <td>-0.014924</td>\n",
       "      <td>0.004371</td>\n",
       "      <td>0.137241</td>\n",
       "      <td>1.000000</td>\n",
       "      <td>-0.041458</td>\n",
       "      <td>-0.059155</td>\n",
       "      <td>0.401516</td>\n",
       "      <td>-0.140296</td>\n",
       "      <td>0.008898</td>\n",
       "      <td>-0.031078</td>\n",
       "      <td>-0.048020</td>\n",
       "    </tr>\n",
       "    <tr>\n",
       "      <th>PEDCOUNT</th>\n",
       "      <td>0.215229</td>\n",
       "      <td>0.012132</td>\n",
       "      <td>0.011177</td>\n",
       "      <td>-0.004030</td>\n",
       "      <td>0.215229</td>\n",
       "      <td>-0.041458</td>\n",
       "      <td>1.000000</td>\n",
       "      <td>-0.035116</td>\n",
       "      <td>-0.309789</td>\n",
       "      <td>0.288468</td>\n",
       "      <td>0.027936</td>\n",
       "      <td>-0.006171</td>\n",
       "      <td>0.559436</td>\n",
       "    </tr>\n",
       "    <tr>\n",
       "      <th>PEDCYLCOUNT</th>\n",
       "      <td>0.187809</td>\n",
       "      <td>-0.003879</td>\n",
       "      <td>0.032705</td>\n",
       "      <td>0.001851</td>\n",
       "      <td>0.187809</td>\n",
       "      <td>-0.059155</td>\n",
       "      <td>-0.035116</td>\n",
       "      <td>1.000000</td>\n",
       "      <td>-0.299572</td>\n",
       "      <td>0.433842</td>\n",
       "      <td>0.044602</td>\n",
       "      <td>0.447397</td>\n",
       "      <td>0.096868</td>\n",
       "    </tr>\n",
       "    <tr>\n",
       "      <th>VEHCOUNT</th>\n",
       "      <td>-0.056914</td>\n",
       "      <td>-0.011069</td>\n",
       "      <td>0.011720</td>\n",
       "      <td>-0.011895</td>\n",
       "      <td>-0.056914</td>\n",
       "      <td>0.401516</td>\n",
       "      <td>-0.309789</td>\n",
       "      <td>-0.299572</td>\n",
       "      <td>1.000000</td>\n",
       "      <td>-0.408821</td>\n",
       "      <td>-0.030750</td>\n",
       "      <td>-0.143410</td>\n",
       "      <td>-0.235704</td>\n",
       "    </tr>\n",
       "    <tr>\n",
       "      <th>SDOT_COLCODE</th>\n",
       "      <td>0.189944</td>\n",
       "      <td>0.007050</td>\n",
       "      <td>-0.011717</td>\n",
       "      <td>0.005662</td>\n",
       "      <td>0.189944</td>\n",
       "      <td>-0.140296</td>\n",
       "      <td>0.288468</td>\n",
       "      <td>0.433842</td>\n",
       "      <td>-0.408821</td>\n",
       "      <td>1.000000</td>\n",
       "      <td>-0.005578</td>\n",
       "      <td>0.233861</td>\n",
       "      <td>0.207747</td>\n",
       "    </tr>\n",
       "    <tr>\n",
       "      <th>SDOTCOLNUM</th>\n",
       "      <td>0.007467</td>\n",
       "      <td>0.000422</td>\n",
       "      <td>-0.004807</td>\n",
       "      <td>0.035564</td>\n",
       "      <td>0.007467</td>\n",
       "      <td>0.008898</td>\n",
       "      <td>0.027936</td>\n",
       "      <td>0.044602</td>\n",
       "      <td>-0.030750</td>\n",
       "      <td>-0.005578</td>\n",
       "      <td>1.000000</td>\n",
       "      <td>0.083610</td>\n",
       "      <td>0.109803</td>\n",
       "    </tr>\n",
       "    <tr>\n",
       "      <th>SEGLANEKEY</th>\n",
       "      <td>0.089017</td>\n",
       "      <td>-0.003221</td>\n",
       "      <td>0.005624</td>\n",
       "      <td>-0.012159</td>\n",
       "      <td>0.089017</td>\n",
       "      <td>-0.031078</td>\n",
       "      <td>-0.006171</td>\n",
       "      <td>0.447397</td>\n",
       "      <td>-0.143410</td>\n",
       "      <td>0.233861</td>\n",
       "      <td>0.083610</td>\n",
       "      <td>1.000000</td>\n",
       "      <td>-0.009411</td>\n",
       "    </tr>\n",
       "    <tr>\n",
       "      <th>CROSSWALKKEY</th>\n",
       "      <td>0.153012</td>\n",
       "      <td>0.015530</td>\n",
       "      <td>0.010912</td>\n",
       "      <td>0.025705</td>\n",
       "      <td>0.153012</td>\n",
       "      <td>-0.048020</td>\n",
       "      <td>0.559436</td>\n",
       "      <td>0.096868</td>\n",
       "      <td>-0.235704</td>\n",
       "      <td>0.207747</td>\n",
       "      <td>0.109803</td>\n",
       "      <td>-0.009411</td>\n",
       "      <td>1.000000</td>\n",
       "    </tr>\n",
       "  </tbody>\n",
       "</table>\n",
       "</div>"
      ],
      "text/plain": [
       "                SEVERITYCODE         X         Y    INTKEY  SEVERITYCODE.1  \\\n",
       "SEVERITYCODE        1.000000  0.009715  0.019968  0.010541        1.000000   \n",
       "X                   0.009715  1.000000 -0.162926  0.120712        0.009715   \n",
       "Y                   0.019968 -0.162926  1.000000 -0.107830        0.019968   \n",
       "INTKEY              0.010541  0.120712 -0.107830  1.000000        0.010541   \n",
       "SEVERITYCODE.1      1.000000  0.009715  0.019968  0.010541        1.000000   \n",
       "PERSONCOUNT         0.137241  0.012086 -0.014924  0.004371        0.137241   \n",
       "PEDCOUNT            0.215229  0.012132  0.011177 -0.004030        0.215229   \n",
       "PEDCYLCOUNT         0.187809 -0.003879  0.032705  0.001851        0.187809   \n",
       "VEHCOUNT           -0.056914 -0.011069  0.011720 -0.011895       -0.056914   \n",
       "SDOT_COLCODE        0.189944  0.007050 -0.011717  0.005662        0.189944   \n",
       "SDOTCOLNUM          0.007467  0.000422 -0.004807  0.035564        0.007467   \n",
       "SEGLANEKEY          0.089017 -0.003221  0.005624 -0.012159        0.089017   \n",
       "CROSSWALKKEY        0.153012  0.015530  0.010912  0.025705        0.153012   \n",
       "\n",
       "                PERSONCOUNT  PEDCOUNT  PEDCYLCOUNT  VEHCOUNT  SDOT_COLCODE  \\\n",
       "SEVERITYCODE       0.137241  0.215229     0.187809 -0.056914      0.189944   \n",
       "X                  0.012086  0.012132    -0.003879 -0.011069      0.007050   \n",
       "Y                 -0.014924  0.011177     0.032705  0.011720     -0.011717   \n",
       "INTKEY             0.004371 -0.004030     0.001851 -0.011895      0.005662   \n",
       "SEVERITYCODE.1     0.137241  0.215229     0.187809 -0.056914      0.189944   \n",
       "PERSONCOUNT        1.000000 -0.041458    -0.059155  0.401516     -0.140296   \n",
       "PEDCOUNT          -0.041458  1.000000    -0.035116 -0.309789      0.288468   \n",
       "PEDCYLCOUNT       -0.059155 -0.035116     1.000000 -0.299572      0.433842   \n",
       "VEHCOUNT           0.401516 -0.309789    -0.299572  1.000000     -0.408821   \n",
       "SDOT_COLCODE      -0.140296  0.288468     0.433842 -0.408821      1.000000   \n",
       "SDOTCOLNUM         0.008898  0.027936     0.044602 -0.030750     -0.005578   \n",
       "SEGLANEKEY        -0.031078 -0.006171     0.447397 -0.143410      0.233861   \n",
       "CROSSWALKKEY      -0.048020  0.559436     0.096868 -0.235704      0.207747   \n",
       "\n",
       "                SDOTCOLNUM  SEGLANEKEY  CROSSWALKKEY  \n",
       "SEVERITYCODE      0.007467    0.089017      0.153012  \n",
       "X                 0.000422   -0.003221      0.015530  \n",
       "Y                -0.004807    0.005624      0.010912  \n",
       "INTKEY            0.035564   -0.012159      0.025705  \n",
       "SEVERITYCODE.1    0.007467    0.089017      0.153012  \n",
       "PERSONCOUNT       0.008898   -0.031078     -0.048020  \n",
       "PEDCOUNT          0.027936   -0.006171      0.559436  \n",
       "PEDCYLCOUNT       0.044602    0.447397      0.096868  \n",
       "VEHCOUNT         -0.030750   -0.143410     -0.235704  \n",
       "SDOT_COLCODE     -0.005578    0.233861      0.207747  \n",
       "SDOTCOLNUM        1.000000    0.083610      0.109803  \n",
       "SEGLANEKEY        0.083610    1.000000     -0.009411  \n",
       "CROSSWALKKEY      0.109803   -0.009411      1.000000  "
      ]
     },
     "execution_count": 21,
     "metadata": {},
     "output_type": "execute_result"
    }
   ],
   "source": [
    "df_under_sample[numerical_features].corr()"
   ]
  },
  {
   "cell_type": "markdown",
   "metadata": {},
   "source": [
    "#### Numerical columns correlation is very low "
   ]
  },
  {
   "cell_type": "code",
   "execution_count": 22,
   "metadata": {},
   "outputs": [],
   "source": [
    "\n",
    "import sklearn\n",
    "from sklearn import preprocessing"
   ]
  },
  {
   "cell_type": "code",
   "execution_count": 23,
   "metadata": {},
   "outputs": [
    {
     "name": "stderr",
     "output_type": "stream",
     "text": [
      "/home/jupyterlab/conda/envs/python/lib/python3.6/site-packages/ipykernel_launcher.py:4: SettingWithCopyWarning: \n",
      "A value is trying to be set on a copy of a slice from a DataFrame.\n",
      "Try using .loc[row_indexer,col_indexer] = value instead\n",
      "\n",
      "See the caveats in the documentation: https://pandas.pydata.org/pandas-docs/stable/user_guide/indexing.html#returning-a-view-versus-a-copy\n",
      "  after removing the cwd from sys.path.\n",
      "/home/jupyterlab/conda/envs/python/lib/python3.6/site-packages/ipykernel_launcher.py:5: SettingWithCopyWarning: \n",
      "A value is trying to be set on a copy of a slice from a DataFrame.\n",
      "Try using .loc[row_indexer,col_indexer] = value instead\n",
      "\n",
      "See the caveats in the documentation: https://pandas.pydata.org/pandas-docs/stable/user_guide/indexing.html#returning-a-view-versus-a-copy\n",
      "  \"\"\"\n",
      "/home/jupyterlab/conda/envs/python/lib/python3.6/site-packages/ipykernel_launcher.py:6: SettingWithCopyWarning: \n",
      "A value is trying to be set on a copy of a slice from a DataFrame.\n",
      "Try using .loc[row_indexer,col_indexer] = value instead\n",
      "\n",
      "See the caveats in the documentation: https://pandas.pydata.org/pandas-docs/stable/user_guide/indexing.html#returning-a-view-versus-a-copy\n",
      "  \n",
      "/home/jupyterlab/conda/envs/python/lib/python3.6/site-packages/ipykernel_launcher.py:7: SettingWithCopyWarning: \n",
      "A value is trying to be set on a copy of a slice from a DataFrame.\n",
      "Try using .loc[row_indexer,col_indexer] = value instead\n",
      "\n",
      "See the caveats in the documentation: https://pandas.pydata.org/pandas-docs/stable/user_guide/indexing.html#returning-a-view-versus-a-copy\n",
      "  import sys\n",
      "/home/jupyterlab/conda/envs/python/lib/python3.6/site-packages/ipykernel_launcher.py:8: SettingWithCopyWarning: \n",
      "A value is trying to be set on a copy of a slice from a DataFrame.\n",
      "Try using .loc[row_indexer,col_indexer] = value instead\n",
      "\n",
      "See the caveats in the documentation: https://pandas.pydata.org/pandas-docs/stable/user_guide/indexing.html#returning-a-view-versus-a-copy\n",
      "  \n",
      "/home/jupyterlab/conda/envs/python/lib/python3.6/site-packages/ipykernel_launcher.py:9: SettingWithCopyWarning: \n",
      "A value is trying to be set on a copy of a slice from a DataFrame.\n",
      "Try using .loc[row_indexer,col_indexer] = value instead\n",
      "\n",
      "See the caveats in the documentation: https://pandas.pydata.org/pandas-docs/stable/user_guide/indexing.html#returning-a-view-versus-a-copy\n",
      "  if __name__ == '__main__':\n",
      "/home/jupyterlab/conda/envs/python/lib/python3.6/site-packages/ipykernel_launcher.py:10: SettingWithCopyWarning: \n",
      "A value is trying to be set on a copy of a slice from a DataFrame.\n",
      "Try using .loc[row_indexer,col_indexer] = value instead\n",
      "\n",
      "See the caveats in the documentation: https://pandas.pydata.org/pandas-docs/stable/user_guide/indexing.html#returning-a-view-versus-a-copy\n",
      "  # Remove the CWD from sys.path while we load stuff.\n"
     ]
    },
    {
     "data": {
      "image/png": "[encoded data removed]",
      "text/plain": [
       "<Figure size 648x504 with 2 Axes>"
      ]
     },
     "metadata": {
      "needs_background": "light"
     },
     "output_type": "display_data"
    }
   ],
   "source": [
    "temp = df_under_sample[['ADDRTYPE', 'COLLISIONTYPE', 'JUNCTIONTYPE', 'WEATHER', 'ROADCOND', 'LIGHTCOND','SEVERITYCODE']]\n",
    "\n",
    "le = preprocessing.LabelEncoder()\n",
    "temp['ROADCOND'] = le.fit_transform(temp['ROADCOND'].astype(str))\n",
    "temp['ADDRTYPE'] = le.fit_transform(temp['ADDRTYPE'].astype(str))\n",
    "temp['COLLISIONTYPE'] = le.fit_transform(temp['COLLISIONTYPE'].astype(str))\n",
    "temp['JUNCTIONTYPE'] = le.fit_transform(temp['JUNCTIONTYPE'].astype(str))\n",
    "temp['WEATHER'] = le.fit_transform(temp['WEATHER'].astype(str))\n",
    "temp['ROADCOND'] = le.fit_transform(temp['ROADCOND'].astype(str))\n",
    "temp['LIGHTCOND'] = le.fit_transform(temp['LIGHTCOND'].astype(str))\n",
    "\n",
    "fig, ax = plt.subplots(figsize=(9, 7))\n",
    "sns.heatmap(temp.corr(), cmap=\"Blues\",\n",
    "           linewidth=0.3, cbar_kws={\"shrink\": .8})\n",
    "plt.show()"
   ]
  },
  {
   "cell_type": "markdown",
   "metadata": {},
   "source": [
    "#### Weather and RoadCond are correlating each other so I can remove raod condition\n",
    "#### Similarly COLLISIONTYPE can be removed"
   ]
  },
  {
   "cell_type": "code",
   "execution_count": 24,
   "metadata": {},
   "outputs": [
    {
     "data": {
      "text/html": [
       "<div>\n",
       "<style scoped>\n",
       "    .dataframe tbody tr th:only-of-type {\n",
       "        vertical-align: middle;\n",
       "    }\n",
       "\n",
       "    .dataframe tbody tr th {\n",
       "        vertical-align: top;\n",
       "    }\n",
       "\n",
       "    .dataframe thead th {\n",
       "        text-align: right;\n",
       "    }\n",
       "</style>\n",
       "<table border=\"1\" class=\"dataframe\">\n",
       "  <thead>\n",
       "    <tr style=\"text-align: right;\">\n",
       "      <th></th>\n",
       "      <th>ADDRTYPE</th>\n",
       "      <th>COLLISIONTYPE</th>\n",
       "      <th>JUNCTIONTYPE</th>\n",
       "      <th>WEATHER</th>\n",
       "      <th>ROADCOND</th>\n",
       "      <th>LIGHTCOND</th>\n",
       "      <th>SEVERITYCODE</th>\n",
       "    </tr>\n",
       "  </thead>\n",
       "  <tbody>\n",
       "    <tr>\n",
       "      <th>ADDRTYPE</th>\n",
       "      <td>1.000000</td>\n",
       "      <td>-0.433771</td>\n",
       "      <td>-0.769754</td>\n",
       "      <td>-0.040715</td>\n",
       "      <td>-0.008060</td>\n",
       "      <td>-0.016923</td>\n",
       "      <td>0.186954</td>\n",
       "    </tr>\n",
       "    <tr>\n",
       "      <th>COLLISIONTYPE</th>\n",
       "      <td>-0.433771</td>\n",
       "      <td>1.000000</td>\n",
       "      <td>0.435922</td>\n",
       "      <td>0.148210</td>\n",
       "      <td>0.079310</td>\n",
       "      <td>0.134749</td>\n",
       "      <td>-0.140407</td>\n",
       "    </tr>\n",
       "    <tr>\n",
       "      <th>JUNCTIONTYPE</th>\n",
       "      <td>-0.769754</td>\n",
       "      <td>0.435922</td>\n",
       "      <td>1.000000</td>\n",
       "      <td>0.142392</td>\n",
       "      <td>0.063215</td>\n",
       "      <td>0.085407</td>\n",
       "      <td>-0.240628</td>\n",
       "    </tr>\n",
       "    <tr>\n",
       "      <th>WEATHER</th>\n",
       "      <td>-0.040715</td>\n",
       "      <td>0.148210</td>\n",
       "      <td>0.142392</td>\n",
       "      <td>1.000000</td>\n",
       "      <td>0.767278</td>\n",
       "      <td>0.291644</td>\n",
       "      <td>-0.127520</td>\n",
       "    </tr>\n",
       "    <tr>\n",
       "      <th>ROADCOND</th>\n",
       "      <td>-0.008060</td>\n",
       "      <td>0.079310</td>\n",
       "      <td>0.063215</td>\n",
       "      <td>0.767278</td>\n",
       "      <td>1.000000</td>\n",
       "      <td>0.092070</td>\n",
       "      <td>-0.060213</td>\n",
       "    </tr>\n",
       "    <tr>\n",
       "      <th>LIGHTCOND</th>\n",
       "      <td>-0.016923</td>\n",
       "      <td>0.134749</td>\n",
       "      <td>0.085407</td>\n",
       "      <td>0.291644</td>\n",
       "      <td>0.092070</td>\n",
       "      <td>1.000000</td>\n",
       "      <td>-0.078955</td>\n",
       "    </tr>\n",
       "    <tr>\n",
       "      <th>SEVERITYCODE</th>\n",
       "      <td>0.186954</td>\n",
       "      <td>-0.140407</td>\n",
       "      <td>-0.240628</td>\n",
       "      <td>-0.127520</td>\n",
       "      <td>-0.060213</td>\n",
       "      <td>-0.078955</td>\n",
       "      <td>1.000000</td>\n",
       "    </tr>\n",
       "  </tbody>\n",
       "</table>\n",
       "</div>"
      ],
      "text/plain": [
       "               ADDRTYPE  COLLISIONTYPE  JUNCTIONTYPE   WEATHER  ROADCOND  \\\n",
       "ADDRTYPE       1.000000      -0.433771     -0.769754 -0.040715 -0.008060   \n",
       "COLLISIONTYPE -0.433771       1.000000      0.435922  0.148210  0.079310   \n",
       "JUNCTIONTYPE  -0.769754       0.435922      1.000000  0.142392  0.063215   \n",
       "WEATHER       -0.040715       0.148210      0.142392  1.000000  0.767278   \n",
       "ROADCOND      -0.008060       0.079310      0.063215  0.767278  1.000000   \n",
       "LIGHTCOND     -0.016923       0.134749      0.085407  0.291644  0.092070   \n",
       "SEVERITYCODE   0.186954      -0.140407     -0.240628 -0.127520 -0.060213   \n",
       "\n",
       "               LIGHTCOND  SEVERITYCODE  \n",
       "ADDRTYPE       -0.016923      0.186954  \n",
       "COLLISIONTYPE   0.134749     -0.140407  \n",
       "JUNCTIONTYPE    0.085407     -0.240628  \n",
       "WEATHER         0.291644     -0.127520  \n",
       "ROADCOND        0.092070     -0.060213  \n",
       "LIGHTCOND       1.000000     -0.078955  \n",
       "SEVERITYCODE   -0.078955      1.000000  "
      ]
     },
     "execution_count": 24,
     "metadata": {},
     "output_type": "execute_result"
    }
   ],
   "source": [
    "temp.corr()"
   ]
  },
  {
   "cell_type": "markdown",
   "metadata": {},
   "source": [
    "### Feature Engineering and Training and Test data creation"
   ]
  },
  {
   "cell_type": "code",
   "execution_count": 25,
   "metadata": {},
   "outputs": [],
   "source": [
    "final_features=['ADDRTYPE', 'JUNCTIONTYPE', 'WEATHER', 'LIGHTCOND','PEDCOUNT']\n",
    "label='SEVERITYCODE'"
   ]
  },
  {
   "cell_type": "code",
   "execution_count": 26,
   "metadata": {},
   "outputs": [
    {
     "name": "stderr",
     "output_type": "stream",
     "text": [
      "/home/jupyterlab/conda/envs/python/lib/python3.6/site-packages/ipykernel_launcher.py:3: SettingWithCopyWarning: \n",
      "A value is trying to be set on a copy of a slice from a DataFrame.\n",
      "Try using .loc[row_indexer,col_indexer] = value instead\n",
      "\n",
      "See the caveats in the documentation: https://pandas.pydata.org/pandas-docs/stable/user_guide/indexing.html#returning-a-view-versus-a-copy\n",
      "  This is separate from the ipykernel package so we can avoid doing imports until\n",
      "/home/jupyterlab/conda/envs/python/lib/python3.6/site-packages/ipykernel_launcher.py:4: SettingWithCopyWarning: \n",
      "A value is trying to be set on a copy of a slice from a DataFrame.\n",
      "Try using .loc[row_indexer,col_indexer] = value instead\n",
      "\n",
      "See the caveats in the documentation: https://pandas.pydata.org/pandas-docs/stable/user_guide/indexing.html#returning-a-view-versus-a-copy\n",
      "  after removing the cwd from sys.path.\n",
      "/home/jupyterlab/conda/envs/python/lib/python3.6/site-packages/ipykernel_launcher.py:5: SettingWithCopyWarning: \n",
      "A value is trying to be set on a copy of a slice from a DataFrame.\n",
      "Try using .loc[row_indexer,col_indexer] = value instead\n",
      "\n",
      "See the caveats in the documentation: https://pandas.pydata.org/pandas-docs/stable/user_guide/indexing.html#returning-a-view-versus-a-copy\n",
      "  \"\"\"\n",
      "/home/jupyterlab/conda/envs/python/lib/python3.6/site-packages/ipykernel_launcher.py:6: SettingWithCopyWarning: \n",
      "A value is trying to be set on a copy of a slice from a DataFrame.\n",
      "Try using .loc[row_indexer,col_indexer] = value instead\n",
      "\n",
      "See the caveats in the documentation: https://pandas.pydata.org/pandas-docs/stable/user_guide/indexing.html#returning-a-view-versus-a-copy\n",
      "  \n"
     ]
    },
    {
     "data": {
      "text/html": [
       "<div>\n",
       "<style scoped>\n",
       "    .dataframe tbody tr th:only-of-type {\n",
       "        vertical-align: middle;\n",
       "    }\n",
       "\n",
       "    .dataframe tbody tr th {\n",
       "        vertical-align: top;\n",
       "    }\n",
       "\n",
       "    .dataframe thead th {\n",
       "        text-align: right;\n",
       "    }\n",
       "</style>\n",
       "<table border=\"1\" class=\"dataframe\">\n",
       "  <thead>\n",
       "    <tr style=\"text-align: right;\">\n",
       "      <th></th>\n",
       "      <th>ADDRTYPE</th>\n",
       "      <th>JUNCTIONTYPE</th>\n",
       "      <th>WEATHER</th>\n",
       "      <th>LIGHTCOND</th>\n",
       "      <th>PEDCOUNT</th>\n",
       "      <th>SEVERITYCODE</th>\n",
       "    </tr>\n",
       "  </thead>\n",
       "  <tbody>\n",
       "    <tr>\n",
       "      <th>0</th>\n",
       "      <td>2</td>\n",
       "      <td>1</td>\n",
       "      <td>4</td>\n",
       "      <td>5</td>\n",
       "      <td>0</td>\n",
       "      <td>2</td>\n",
       "    </tr>\n",
       "    <tr>\n",
       "      <th>1</th>\n",
       "      <td>1</td>\n",
       "      <td>4</td>\n",
       "      <td>6</td>\n",
       "      <td>2</td>\n",
       "      <td>0</td>\n",
       "      <td>1</td>\n",
       "    </tr>\n",
       "    <tr>\n",
       "      <th>2</th>\n",
       "      <td>1</td>\n",
       "      <td>4</td>\n",
       "      <td>4</td>\n",
       "      <td>5</td>\n",
       "      <td>0</td>\n",
       "      <td>1</td>\n",
       "    </tr>\n",
       "    <tr>\n",
       "      <th>3</th>\n",
       "      <td>1</td>\n",
       "      <td>4</td>\n",
       "      <td>1</td>\n",
       "      <td>5</td>\n",
       "      <td>0</td>\n",
       "      <td>1</td>\n",
       "    </tr>\n",
       "    <tr>\n",
       "      <th>4</th>\n",
       "      <td>2</td>\n",
       "      <td>1</td>\n",
       "      <td>6</td>\n",
       "      <td>5</td>\n",
       "      <td>0</td>\n",
       "      <td>2</td>\n",
       "    </tr>\n",
       "    <tr>\n",
       "      <th>...</th>\n",
       "      <td>...</td>\n",
       "      <td>...</td>\n",
       "      <td>...</td>\n",
       "      <td>...</td>\n",
       "      <td>...</td>\n",
       "      <td>...</td>\n",
       "    </tr>\n",
       "    <tr>\n",
       "      <th>194668</th>\n",
       "      <td>1</td>\n",
       "      <td>4</td>\n",
       "      <td>1</td>\n",
       "      <td>5</td>\n",
       "      <td>0</td>\n",
       "      <td>2</td>\n",
       "    </tr>\n",
       "    <tr>\n",
       "      <th>194669</th>\n",
       "      <td>1</td>\n",
       "      <td>4</td>\n",
       "      <td>6</td>\n",
       "      <td>5</td>\n",
       "      <td>0</td>\n",
       "      <td>1</td>\n",
       "    </tr>\n",
       "    <tr>\n",
       "      <th>194670</th>\n",
       "      <td>2</td>\n",
       "      <td>1</td>\n",
       "      <td>1</td>\n",
       "      <td>5</td>\n",
       "      <td>0</td>\n",
       "      <td>2</td>\n",
       "    </tr>\n",
       "    <tr>\n",
       "      <th>194671</th>\n",
       "      <td>2</td>\n",
       "      <td>1</td>\n",
       "      <td>1</td>\n",
       "      <td>6</td>\n",
       "      <td>0</td>\n",
       "      <td>2</td>\n",
       "    </tr>\n",
       "    <tr>\n",
       "      <th>194672</th>\n",
       "      <td>1</td>\n",
       "      <td>4</td>\n",
       "      <td>1</td>\n",
       "      <td>5</td>\n",
       "      <td>0</td>\n",
       "      <td>1</td>\n",
       "    </tr>\n",
       "  </tbody>\n",
       "</table>\n",
       "<p>194673 rows × 6 columns</p>\n",
       "</div>"
      ],
      "text/plain": [
       "        ADDRTYPE  JUNCTIONTYPE  WEATHER  LIGHTCOND  PEDCOUNT  SEVERITYCODE\n",
       "0              2             1        4          5         0             2\n",
       "1              1             4        6          2         0             1\n",
       "2              1             4        4          5         0             1\n",
       "3              1             4        1          5         0             1\n",
       "4              2             1        6          5         0             2\n",
       "...          ...           ...      ...        ...       ...           ...\n",
       "194668         1             4        1          5         0             2\n",
       "194669         1             4        6          5         0             1\n",
       "194670         2             1        1          5         0             2\n",
       "194671         2             1        1          6         0             2\n",
       "194672         1             4        1          5         0             1\n",
       "\n",
       "[194673 rows x 6 columns]"
      ]
     },
     "execution_count": 26,
     "metadata": {},
     "output_type": "execute_result"
    }
   ],
   "source": [
    "data=df[['ADDRTYPE', 'JUNCTIONTYPE', 'WEATHER', 'LIGHTCOND','PEDCOUNT','SEVERITYCODE']]\n",
    "le = preprocessing.LabelEncoder()\n",
    "data['ADDRTYPE'] = le.fit_transform(data['ADDRTYPE'].astype(str))\n",
    "data['JUNCTIONTYPE'] = le.fit_transform(data['JUNCTIONTYPE'].astype(str))\n",
    "data['WEATHER'] = le.fit_transform(data['WEATHER'].astype(str))\n",
    "data['LIGHTCOND'] = le.fit_transform(data['LIGHTCOND'].astype(str))\n",
    "data"
   ]
  },
  {
   "cell_type": "code",
   "execution_count": 27,
   "metadata": {},
   "outputs": [],
   "source": [
    "df_shuffled=data.sample(frac=1,random_state=4)\n",
    "df_under_1=df_shuffled.loc[df_shuffled['SEVERITYCODE'] == 1].sample(n=57159,random_state=42)\n",
    "df_under_2=df_shuffled.loc[df_shuffled['SEVERITYCODE'] == 2]\n",
    "df_over_2=df_shuffled.loc[df_shuffled['SEVERITYCODE'] == 2].sample(n=18309,random_state=42)\n",
    "df_under_sample = pd.concat([df_under_1, df_under_2])\n",
    "df_over_sample = pd.concat([df_shuffled, df_under_2, df_over_2])\n",
    "\n"
   ]
  },
  {
   "cell_type": "code",
   "execution_count": 28,
   "metadata": {},
   "outputs": [],
   "source": [
    "data_1=data.loc[data['SEVERITYCODE'] == 1]\n",
    "data_2=data.loc[data['SEVERITYCODE'] == 2]\n",
    "X_1=data_1[final_features]\n",
    "y_1=data_1[label]\n",
    "\n",
    "X_2=data_2[final_features]\n",
    "y_2=data_2[label]"
   ]
  },
  {
   "cell_type": "code",
   "execution_count": 29,
   "metadata": {},
   "outputs": [],
   "source": [
    "from sklearn.model_selection import train_test_split\n",
    "\n",
    "X_1_train, X_1_test, y_1_train, y_1_test = train_test_split(\n",
    "    X_1, y_1, test_size=0.2, random_state=42)\n",
    "\n",
    "X_2_train, X_2_test, y_2_train, y_2_test = train_test_split(\n",
    "    X_2, y_2, test_size=0.2, random_state=42)\n",
    "\n",
    "X_train = pd.concat([X_1_train, X_2_train])\n",
    "X_test = pd.concat([X_1_test, X_2_test])\n",
    "\n",
    "y_train = pd.concat([y_1_train, y_2_train])\n",
    "y_test = pd.concat([y_1_test, y_2_test])\n"
   ]
  },
  {
   "cell_type": "code",
   "execution_count": 30,
   "metadata": {},
   "outputs": [
    {
     "name": "stderr",
     "output_type": "stream",
     "text": [
      "/home/jupyterlab/conda/envs/python/lib/python3.6/site-packages/sklearn/preprocessing/data.py:625: DataConversionWarning: Data with input dtype int64 were all converted to float64 by StandardScaler.\n",
      "  return self.partial_fit(X, y)\n",
      "/home/jupyterlab/conda/envs/python/lib/python3.6/site-packages/ipykernel_launcher.py:1: DataConversionWarning: Data with input dtype int64 were all converted to float64 by StandardScaler.\n",
      "  \"\"\"Entry point for launching an IPython kernel.\n",
      "/home/jupyterlab/conda/envs/python/lib/python3.6/site-packages/sklearn/preprocessing/data.py:625: DataConversionWarning: Data with input dtype int64 were all converted to float64 by StandardScaler.\n",
      "  return self.partial_fit(X, y)\n",
      "/home/jupyterlab/conda/envs/python/lib/python3.6/site-packages/ipykernel_launcher.py:2: DataConversionWarning: Data with input dtype int64 were all converted to float64 by StandardScaler.\n",
      "  \n"
     ]
    }
   ],
   "source": [
    "X_train= preprocessing.StandardScaler().fit(X_train).transform(X_train)\n",
    "X_test= preprocessing.StandardScaler().fit(X_test).transform(X_test)"
   ]
  },
  {
   "cell_type": "code",
   "execution_count": 31,
   "metadata": {},
   "outputs": [],
   "source": [
    "\n",
    "from sklearn import metrics\n",
    "from sklearn.model_selection import train_test_split\n",
    "from sklearn.metrics import classification_report, confusion_matrix\n",
    "from sklearn.metrics import f1_score\n",
    "from sklearn.metrics import jaccard_similarity_score\n",
    "from sklearn.metrics import log_loss"
   ]
  },
  {
   "cell_type": "markdown",
   "metadata": {},
   "source": [
    "# K Nearest Neighbor(KNN)"
   ]
  },
  {
   "cell_type": "code",
   "execution_count": 32,
   "metadata": {},
   "outputs": [],
   "source": [
    "from sklearn.neighbors import KNeighborsClassifier\n",
    "from sklearn import metrics"
   ]
  },
  {
   "cell_type": "code",
   "execution_count": 62,
   "metadata": {},
   "outputs": [
    {
     "data": {
      "text/plain": [
       "array([0.72508026, 0.72836779, 0.72775138, 0.72859895, 0.728676  ,\n",
       "       0.73037113, 0.73034545, 0.73024271, 0.73034545])"
      ]
     },
     "execution_count": 62,
     "metadata": {},
     "output_type": "execute_result"
    }
   ],
   "source": [
    "Ks = 11\n",
    "mean_acc = np.zeros((Ks-2))\n",
    "std_acc = np.zeros((Ks-2))\n",
    "ConfustionMx = [];\n",
    "for n in range(2,Ks):\n",
    "    \n",
    "    #Train Model and Predict  \n",
    "    neigh = KNeighborsClassifier(n_neighbors = n).fit(X_train,y_train)\n",
    "    yhat=neigh.predict(X_test)\n",
    "    mean_acc[n-2] = metrics.accuracy_score(y_test, yhat)\n",
    "\n",
    "    \n",
    "    std_acc[n-2]=np.std(yhat==y_test)/np.sqrt(yhat.shape[0])\n",
    "\n",
    "mean_acc"
   ]
  },
  {
   "cell_type": "code",
   "execution_count": 63,
   "metadata": {},
   "outputs": [
    {
     "data": {
      "image/png": "[encoded data removed]",
      "text/plain": [
       "<Figure size 432x288 with 1 Axes>"
      ]
     },
     "metadata": {
      "needs_background": "light"
     },
     "output_type": "display_data"
    }
   ],
   "source": [
    "plt.plot(range(2,Ks),mean_acc,'g')\n",
    "plt.fill_between(range(2,Ks),mean_acc - 2 * std_acc,mean_acc + 2 * std_acc, alpha=0.10)\n",
    "plt.legend(('Accuracy ', '+/- 3xstd'))\n",
    "plt.ylabel('Accuracy ')\n",
    "plt.xlabel('Number of Nabors (K)')\n",
    "plt.tight_layout()\n",
    "plt.show()"
   ]
  },
  {
   "cell_type": "code",
   "execution_count": 33,
   "metadata": {},
   "outputs": [],
   "source": [
    "from sklearn.metrics import classification_report, confusion_matrix\n",
    "import itertools\n",
    "def plot_confusion_matrix(cm, classes,\n",
    "                          normalize=False,\n",
    "                          title='Confusion matrix',\n",
    "                          cmap=plt.cm.Blues):\n",
    "    \"\"\"\n",
    "    This function prints and plots the confusion matrix.\n",
    "    Normalization can be applied by setting `normalize=True`.\n",
    "    \"\"\"\n",
    "    if normalize:\n",
    "        cm = cm.astype('float') / cm.sum(axis=1)[:, np.newaxis]\n",
    "        print(\"Normalized confusion matrix\")\n",
    "    else:\n",
    "        print('Confusion matrix, without normalization')\n",
    "\n",
    "    print(cm)\n",
    "\n",
    "    plt.imshow(cm, interpolation='nearest', cmap=cmap)\n",
    "    plt.title(title)\n",
    "    plt.colorbar()\n",
    "    tick_marks = np.arange(len(classes))\n",
    "    plt.xticks(tick_marks, classes, rotation=45)\n",
    "    plt.yticks(tick_marks, classes)\n",
    "\n",
    "    fmt = '.2f' if normalize else 'd'\n",
    "    thresh = cm.max() / 2.\n",
    "    for i, j in itertools.product(range(cm.shape[0]), range(cm.shape[1])):\n",
    "        plt.text(j, i, format(cm[i, j], fmt),\n",
    "                 horizontalalignment=\"center\",\n",
    "                 color=\"white\" if cm[i, j] > thresh else \"black\")\n",
    "\n",
    "    plt.tight_layout()\n",
    "    plt.ylabel('True label')\n",
    "    plt.xlabel('Predicted label')"
   ]
  },
  {
   "cell_type": "code",
   "execution_count": 34,
   "metadata": {},
   "outputs": [],
   "source": [
    "neigh = KNeighborsClassifier(n_neighbors = 7).fit(X_train,y_train)"
   ]
  },
  {
   "cell_type": "markdown",
   "metadata": {},
   "source": [
    "#### K=7 is where we have best Accuracy"
   ]
  },
  {
   "cell_type": "code",
   "execution_count": null,
   "metadata": {},
   "outputs": [],
   "source": []
  },
  {
   "cell_type": "markdown",
   "metadata": {},
   "source": [
    "# Decision Tree"
   ]
  },
  {
   "cell_type": "code",
   "execution_count": 47,
   "metadata": {},
   "outputs": [],
   "source": [
    "from sklearn.tree import DecisionTreeClassifier"
   ]
  },
  {
   "cell_type": "code",
   "execution_count": 48,
   "metadata": {},
   "outputs": [],
   "source": [
    "drugTree = DecisionTreeClassifier(criterion=\"entropy\", max_depth = 4)\n",
    "drugTree.fit(X_train,y_train)\n",
    "predTree = drugTree.predict(X_test)\n"
   ]
  },
  {
   "cell_type": "markdown",
   "metadata": {},
   "source": [
    "# Support Vector Machine"
   ]
  },
  {
   "cell_type": "code",
   "execution_count": 59,
   "metadata": {},
   "outputs": [],
   "source": [
    "from sklearn import svm\n",
    "from sklearn.metrics import classification_report, confusion_matrix"
   ]
  },
  {
   "cell_type": "code",
   "execution_count": null,
   "metadata": {},
   "outputs": [],
   "source": [
    "ker = ['linear']#, 'poly', 'linear', 'sigmoid']\n",
    "for i in ker:\n",
    "    clf = svm.SVC(kernel=i)\n",
    "    clf.fit(X_train, y_train)\n",
    "    #yhat = clf.predict(X_test)\n",
    "    #print(\"####################\",i,\"####################\")\n",
    "    #print (classification_report(y_test, yhat, labels=[\"PAIDOFF\"]))"
   ]
  },
  {
   "cell_type": "markdown",
   "metadata": {},
   "source": [
    "# Logistic Regression"
   ]
  },
  {
   "cell_type": "code",
   "execution_count": 52,
   "metadata": {},
   "outputs": [],
   "source": [
    "from sklearn.linear_model import LogisticRegression\n",
    "from sklearn.metrics import jaccard_similarity_score\n",
    "from sklearn.metrics import log_loss\n",
    "from sklearn.metrics import f1_score"
   ]
  },
  {
   "cell_type": "code",
   "execution_count": 53,
   "metadata": {},
   "outputs": [],
   "source": [
    "solvers=['sag', 'saga']#, 'newton-cg', 'lbfgs', 'liblinear']\n",
    "#for sol in solvers:\n",
    "    #regularization = [0.01,0.02,0.03,0.04,0.05]\n",
    "    #for reg in regularization:\n",
    "LR = LogisticRegression(C=0.01, solver='sag').fit(X_train,y_train)\n",
    "        #yhat = LR.predict(X_test)\n",
    "        #yhat_prob = LR.predict_proba(X_test)\n",
    "        #print(\"C\",reg,sol,\" log loss: \",log_loss(y_test, yhat_prob),\" jaccard score: \",jaccard_similarity_score(y_test, yhat),\" F1 score: \", f1_score(y_test, yhat))"
   ]
  },
  {
   "cell_type": "code",
   "execution_count": null,
   "metadata": {},
   "outputs": [],
   "source": []
  },
  {
   "cell_type": "code",
   "execution_count": null,
   "metadata": {},
   "outputs": [],
   "source": []
  },
  {
   "cell_type": "markdown",
   "metadata": {},
   "source": [
    "# Model Evaluation using Test set"
   ]
  },
  {
   "cell_type": "code",
   "execution_count": 37,
   "metadata": {},
   "outputs": [],
   "source": [
    "from sklearn.metrics import jaccard_similarity_score\n",
    "from sklearn.metrics import f1_score\n",
    "from sklearn.metrics import log_loss\n",
    "from sklearn.metrics import classification_report, confusion_matrix"
   ]
  },
  {
   "cell_type": "code",
   "execution_count": 38,
   "metadata": {},
   "outputs": [],
   "source": [
    "report = pd.DataFrame()"
   ]
  },
  {
   "cell_type": "markdown",
   "metadata": {},
   "source": [
    "#### KNN taking K=7 which is giving better score"
   ]
  },
  {
   "cell_type": "code",
   "execution_count": 39,
   "metadata": {},
   "outputs": [
    {
     "name": "stdout",
     "output_type": "stream",
     "text": [
      "              precision    recall  f1-score   support\n",
      "\n",
      "           1       0.72      0.99      0.84     27297\n",
      "           2       0.90      0.11      0.20     11638\n",
      "\n",
      "   micro avg       0.73      0.73      0.73     38935\n",
      "   macro avg       0.81      0.55      0.52     38935\n",
      "weighted avg       0.78      0.73      0.65     38935\n",
      "\n"
     ]
    }
   ],
   "source": [
    "yhat=neigh.predict(X_test)\n",
    "yhat_prob=neigh.predict_proba(X_test)\n",
    "\n",
    "report=report.append({\"Algorithm\": \"KNN\" , \"Jaccard\": jaccard_similarity_score(y_test, yhat), \"F1-score\":f1_score(y_test, yhat), \"LogLoss\": 'NA'},ignore_index = True)\n",
    "print (classification_report(y_test, yhat))"
   ]
  },
  {
   "cell_type": "code",
   "execution_count": 50,
   "metadata": {},
   "outputs": [
    {
     "name": "stdout",
     "output_type": "stream",
     "text": [
      "Confusion matrix, without normalization\n",
      "[[27159   138]\n",
      " [10353  1285]]\n"
     ]
    },
    {
     "data": {
      "image/png": "[encoded data removed]",
      "text/plain": [
       "<Figure size 432x288 with 2 Axes>"
      ]
     },
     "metadata": {
      "needs_background": "light"
     },
     "output_type": "display_data"
    }
   ],
   "source": [
    "# Compute confusion matrix\n",
    "cnf_matrix = confusion_matrix(y_test, yhat, labels=[1,2])\n",
    "np.set_printoptions(precision=2)\n",
    "\n",
    "\n",
    "# Plot non-normalized confusion matrix\n",
    "plt.figure()\n",
    "plot_confusion_matrix(cnf_matrix, classes=['severity=1','severity=2'],normalize= False,  title='Confusion matrix')"
   ]
  },
  {
   "cell_type": "markdown",
   "metadata": {},
   "source": [
    "#### Decision Trees is giving best results at Dept = 4 using entropy"
   ]
  },
  {
   "cell_type": "code",
   "execution_count": 49,
   "metadata": {},
   "outputs": [
    {
     "name": "stdout",
     "output_type": "stream",
     "text": [
      "              precision    recall  f1-score   support\n",
      "\n",
      "           1       0.72      0.99      0.84     27297\n",
      "           2       0.90      0.11      0.20     11638\n",
      "\n",
      "   micro avg       0.73      0.73      0.73     38935\n",
      "   macro avg       0.81      0.55      0.52     38935\n",
      "weighted avg       0.78      0.73      0.65     38935\n",
      "\n"
     ]
    }
   ],
   "source": [
    "yhat=drugTree.predict(X_test)\n",
    "yhat_prob=drugTree.predict_proba(X_test)\n",
    "\n",
    "report=report.append({\"Algorithm\": \"Decision Tree\" , \"Jaccard\": jaccard_similarity_score(y_test, yhat), \"F1-score\":f1_score(y_test, yhat), \"LogLoss\": 'NA'},ignore_index = True)\n",
    "\n",
    "print (classification_report(y_test, yhat))"
   ]
  },
  {
   "cell_type": "markdown",
   "metadata": {},
   "source": [
    "#### SVM is performing better with Ploynomial kernal"
   ]
  },
  {
   "cell_type": "code",
   "execution_count": null,
   "metadata": {},
   "outputs": [],
   "source": [
    "clf = svm.SVC(kernel='linear')\n",
    "clf.fit(X_train, y_train)"
   ]
  },
  {
   "cell_type": "code",
   "execution_count": null,
   "metadata": {},
   "outputs": [],
   "source": [
    "yhat=clf.predict(X_test)\n",
    "\n",
    "report=report.append({\"Algorithm\": \"SVM\" , \"Jaccard\": jaccard_similarity_score(y_test, yhat), \"F1-score\":f1_score(y_test, yhat), \"LogLoss\": 'NA'},ignore_index = True)\n",
    "print (classification_report(y_test, yhat))"
   ]
  },
  {
   "cell_type": "markdown",
   "metadata": {},
   "source": [
    "#### Logistic Regression is performing best with regularization val = 0.03 "
   ]
  },
  {
   "cell_type": "code",
   "execution_count": 54,
   "metadata": {},
   "outputs": [
    {
     "name": "stdout",
     "output_type": "stream",
     "text": [
      "              precision    recall  f1-score   support\n",
      "\n",
      "           1       0.72      0.99      0.84     27297\n",
      "           2       0.88      0.11      0.20     11638\n",
      "\n",
      "   micro avg       0.73      0.73      0.73     38935\n",
      "   macro avg       0.80      0.55      0.52     38935\n",
      "weighted avg       0.77      0.73      0.65     38935\n",
      "\n"
     ]
    }
   ],
   "source": [
    "yhat=LR.predict(X_test)\n",
    "yhat_prob=LR.predict_proba(X_test)\n",
    "\n",
    "report=report.append({\"Algorithm\": \"LogisticRegression\" , \"Jaccard\": jaccard_similarity_score(y_test, yhat), \"F1-score\":f1_score(y_test, yhat), \"LogLoss\": log_loss(y_test, yhat_prob)},ignore_index = True)\n",
    "print (classification_report(y_test, yhat))"
   ]
  },
  {
   "cell_type": "code",
   "execution_count": 55,
   "metadata": {},
   "outputs": [
    {
     "name": "stdout",
     "output_type": "stream",
     "text": [
      "Confusion matrix, without normalization\n",
      "[[27124   173]\n",
      " [10338  1300]]\n"
     ]
    },
    {
     "data": {
      "image/png": "[encoded data removed]",
      "text/plain": [
       "<Figure size 432x288 with 2 Axes>"
      ]
     },
     "metadata": {
      "needs_background": "light"
     },
     "output_type": "display_data"
    }
   ],
   "source": [
    "# Compute confusion matrix\n",
    "cnf_matrix = confusion_matrix(y_test, yhat, labels=[1,2])\n",
    "np.set_printoptions(precision=2)\n",
    "\n",
    "\n",
    "# Plot non-normalized confusion matrix\n",
    "plt.figure()\n",
    "plot_confusion_matrix(cnf_matrix, classes=['severity=1','severity=2'],normalize= False,  title='Confusion matrix')"
   ]
  },
  {
   "cell_type": "code",
   "execution_count": 57,
   "metadata": {},
   "outputs": [
    {
     "data": {
      "text/html": [
       "<div>\n",
       "<style scoped>\n",
       "    .dataframe tbody tr th:only-of-type {\n",
       "        vertical-align: middle;\n",
       "    }\n",
       "\n",
       "    .dataframe tbody tr th {\n",
       "        vertical-align: top;\n",
       "    }\n",
       "\n",
       "    .dataframe thead th {\n",
       "        text-align: right;\n",
       "    }\n",
       "</style>\n",
       "<table border=\"1\" class=\"dataframe\">\n",
       "  <thead>\n",
       "    <tr style=\"text-align: right;\">\n",
       "      <th></th>\n",
       "      <th>Algorithm</th>\n",
       "      <th>F1-score</th>\n",
       "      <th>Jaccard</th>\n",
       "      <th>LogLoss</th>\n",
       "    </tr>\n",
       "  </thead>\n",
       "  <tbody>\n",
       "    <tr>\n",
       "      <th>0</th>\n",
       "      <td>KNN</td>\n",
       "      <td>0.837984</td>\n",
       "      <td>0.730371</td>\n",
       "      <td>NA</td>\n",
       "    </tr>\n",
       "    <tr>\n",
       "      <th>1</th>\n",
       "      <td>Decision Tree</td>\n",
       "      <td>0.838124</td>\n",
       "      <td>0.730551</td>\n",
       "      <td>NA</td>\n",
       "    </tr>\n",
       "    <tr>\n",
       "      <th>2</th>\n",
       "      <td>LogisticRegression</td>\n",
       "      <td>0.837691</td>\n",
       "      <td>0.730037</td>\n",
       "      <td>0.556894</td>\n",
       "    </tr>\n",
       "  </tbody>\n",
       "</table>\n",
       "</div>"
      ],
      "text/plain": [
       "            Algorithm  F1-score   Jaccard   LogLoss\n",
       "0                 KNN  0.837984  0.730371        NA\n",
       "1       Decision Tree  0.838124  0.730551        NA\n",
       "2  LogisticRegression  0.837691  0.730037  0.556894"
      ]
     },
     "execution_count": 57,
     "metadata": {},
     "output_type": "execute_result"
    }
   ],
   "source": [
    "report"
   ]
  },
  {
   "cell_type": "code",
   "execution_count": null,
   "metadata": {},
   "outputs": [],
   "source": []
  }
 ],
 "metadata": {
  "kernelspec": {
   "display_name": "Python",
   "language": "python",
   "name": "conda-env-python-py"
  },
  "language_info": {
   "codemirror_mode": {
    "name": "ipython",
    "version": 3
   },
   "file_extension": ".py",
   "mimetype": "text/x-python",
   "name": "python",
   "nbconvert_exporter": "python",
   "pygments_lexer": "ipython3",
   "version": "3.6.11"
  },
  "toc-autonumbering": false
 },
 "nbformat": 4,
 "nbformat_minor": 4
}
